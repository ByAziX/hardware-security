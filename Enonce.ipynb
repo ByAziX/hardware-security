{
 "cells": [
  {
   "attachments": {},
   "cell_type": "markdown",
   "id": "d2c0895d",
   "metadata": {},
   "source": [
    "# TP DFA dans RSA-CRT"
   ]
  },
  {
   "attachments": {},
   "cell_type": "markdown",
   "id": "8754c3b0",
   "metadata": {},
   "source": [
    "## 1/Prise en main de la librarie crypto Python PyCryptodome"
   ]
  },
  {
   "cell_type": "code",
   "execution_count": 1,
   "id": "5ff7b84e",
   "metadata": {},
   "outputs": [
    {
     "name": "stdout",
     "output_type": "stream",
     "text": [
      "r4F09799F6A59081B725599753330B7A2440ABC42606601622FE0C582646E32555303E1062A2989D9B4C265431ADB58DD\n",
      "z00\n",
      "r85BB33C4BB237A311BC40C1279528FD6BB36F94F534A4D8284A18AB8E5670E734C55A6CCAB5FB5EAE02BA37E2D56648D\n",
      "z00\n",
      "r7A13BBF17A0E07D607C07CBB72C7A7A77076376E8434CE6E136832DC95DB3D80\n",
      "z00\n"
     ]
    }
   ],
   "source": [
    "#output est le résultat de la signature du message \"Hello World!\" par le protocole PKCS#1v1.5 utilisant la fonction de hachage \n",
    "#SHA-256\n",
    "output = \"r4F09799F6A59081B725599753330B7A2440ABC42606601622FE0C582646E32555303E1062A2989D9B4C265431ADB58DD\\nz00\\nr85BB33C4BB237A311BC40C1279528FD6BB36F94F534A4D8284A18AB8E5670E734C55A6CCAB5FB5EAE02BA37E2D56648D\\nz00\\nr7A13BBF17A0E07D607C07CBB72C7A7A77076376E8434CE6E136832DC95DB3D80\\nz00\"\n",
    "print(output)"
   ]
  },
  {
   "cell_type": "code",
   "execution_count": 2,
   "id": "10ed5f23",
   "metadata": {},
   "outputs": [
    {
     "name": "stdout",
     "output_type": "stream",
     "text": [
      "4F09799F6A59081B725599753330B7A2440ABC42606601622FE0C582646E32555303E1062A2989D9B4C265431ADB58DD85BB33C4BB237A311BC40C1279528FD6BB36F94F534A4D8284A18AB8E5670E734C55A6CCAB5FB5EAE02BA37E2D56648D7A13BBF17A0E07D607C07CBB72C7A7A77076376E8434CE6E136832DC95DB3D80\n"
     ]
    }
   ],
   "source": [
    "#On affiche le résultat en hexadécimal\n",
    "newout = output.replace(\"r\", \"\").replace(\"\\nz00\",\"\").replace(\"\\n\",\"\")\n",
    "print(newout)"
   ]
  },
  {
   "cell_type": "code",
   "execution_count": 3,
   "id": "ffcd4842",
   "metadata": {},
   "outputs": [
    {
     "name": "stdout",
     "output_type": "stream",
     "text": [
      "b'O\\ty\\x9fjY\\x08\\x1brU\\x99u30\\xb7\\xa2D\\n\\xbcB`f\\x01b/\\xe0\\xc5\\x82dn2US\\x03\\xe1\\x06*)\\x89\\xd9\\xb4\\xc2eC\\x1a\\xdbX\\xdd\\x85\\xbb3\\xc4\\xbb#z1\\x1b\\xc4\\x0c\\x12yR\\x8f\\xd6\\xbb6\\xf9OSJM\\x82\\x84\\xa1\\x8a\\xb8\\xe5g\\x0esLU\\xa6\\xcc\\xab_\\xb5\\xea\\xe0+\\xa3~-Vd\\x8dz\\x13\\xbb\\xf1z\\x0e\\x07\\xd6\\x07\\xc0|\\xbbr\\xc7\\xa7\\xa7pv7n\\x844\\xcen\\x13h2\\xdc\\x95\\xdb=\\x80'\n"
     ]
    }
   ],
   "source": [
    "#Conversion en binaire avec binascii\n",
    "from binascii import unhexlify, hexlify\n",
    "sig = unhexlify(newout)\n",
    "print(sig)"
   ]
  },
  {
   "cell_type": "code",
   "execution_count": 15,
   "id": "f0a75e17",
   "metadata": {},
   "outputs": [
    {
     "name": "stdout",
     "output_type": "stream",
     "text": [
      "7f83b1657ff1fc53b92dc18148a1d65dfc2d4b1fa3d677284addd200126d9069\n",
      "b'-----BEGIN PUBLIC KEY-----\\nMIGfMA0GCSqGSIb3DQEBAQUAA4GNADCBiQKBgQCSknWEUwY9gD3WA9Xnd9eIjtHV\\nvzV4YZD6LyPrwISK6t2pLKbD2AsyxNEJvg821q5xMLnO16zfVM/HVVrBTuurk6iY\\nE/vzxPgGbS2AD3w4qBrjGUKRdAP/SUawqD09PgXuV8b19WBvtdS8bNNO4IAaXpS7\\nd7B1ByM6C8e6yPkPeQIDAQAB\\n-----END PUBLIC KEY-----'\n",
      "True\n"
     ]
    }
   ],
   "source": [
    "#Chargement des fonctions cryptographiques nécessaires de PyCryptodome\n",
    "#Chargement du RSA :\n",
    "\n",
    "from Crypto.PublicKey import RSA\n",
    "#/!\\Ajouter PKCS_v1_5 et SHA256\n",
    "from Crypto.Hash import SHA256\n",
    "from Crypto.Signature import PKCS1_v1_5\n",
    "\n",
    "#Clé publique \n",
    "e = 0x10001\n",
    "N = 0x9292758453063D803DD603D5E777D7888ED1D5BF35786190FA2F23EBC0848AEADDA92CA6C3D80B32C4D109BE0F36D6AE7130B9CED7ACDF54CFC7555AC14EEBAB93A89813FBF3C4F8066D2D800F7C38A81AE31942917403FF4946B0A83D3D3E05EE57C6F5F5606FB5D4BC6CD34EE0801A5E94BB77B07507233A0BC7BAC8F90F79\n",
    "\n",
    "#Message\n",
    "m = b\"Hello World!\"\n",
    "\n",
    "#Hashage du message avec SHA-256 et affichage du hashé (nommé \"hash_object\")\n",
    "hash_object = SHA256.new(data=m)\n",
    "print(hash_object.hexdigest())\n",
    "#Construction de la clé publique RSA, et affichage en format PEM (les formats DER et OpenSSH sont aussi disponibles) \n",
    "public_key = RSA.construct((N, e))\n",
    "print(public_key.exportKey('PEM'))\n",
    "\n",
    "#Vérification de la signature PKCS v1.5 du message\n",
    "verifier = PKCS1_v1_5.new(public_key)\n",
    "is_verified = verifier.verify(hash_object, sig)\n",
    "\n",
    "#Afficher \"True\" si la signature est vérifiée (utiliser assert)\n",
    "assert is_verified is True, \"La signature n'est pas valide !\"\n",
    "print(is_verified)\n",
    "\n",
    "\n"
   ]
  },
  {
   "attachments": {},
   "cell_type": "markdown",
   "id": "d61092ac",
   "metadata": {},
   "source": [
    "## 2/Simulation des fautes dans le RSA-CRT"
   ]
  },
  {
   "attachments": {},
   "cell_type": "markdown",
   "id": "7113a5e6",
   "metadata": {},
   "source": [
    "### 2/1/Calcul du RSA-CRT"
   ]
  },
  {
   "cell_type": "raw",
   "id": "b04beb76",
   "metadata": {},
   "source": [
    "Le message est signé selon PKCS#1 v1.5, suivant la méthode de rembourrage (padding) suivant : |00|01|ff...|00|hash_prefix|message_hash| \n",
    "Ici, \"ff...\" est une chaîne d'octets \"ff\" suffisamment longue pour que la taille du message paddé soit la même que celle du modulo N, et \"hash_prefix\" est un numéro d'identifiant pour la fonction de hachage utilisé sur \"message_hash\". Ici, c'est SHA256 qui est utilisé, et il a le préfixe \"3031300d060960864801650304020105000420\".\n",
    "\n",
    "La fonction build_message ci-dessous implémente tout ce processus :"
   ]
  },
  {
   "cell_type": "code",
   "execution_count": 5,
   "id": "c7b293d1",
   "metadata": {},
   "outputs": [
    {
     "name": "stdout",
     "output_type": "stream",
     "text": [
      "Message:       b'Hello World!'\n",
      "Padded/hashed: 0001ffffffffffffffffffffffffffffffffffffffffffffffffffffffffffffffffffffffffffffffffffffffffffffffffffffffffffffffffffffffffffffffffffffffffffffffffffff003031300d0609608648016503040201050004207f83b1657ff1fc53b92dc18148a1d65dfc2d4b1fa3d677284addd200126d9069\n"
     ]
    }
   ],
   "source": [
    "# Padding du PKCS#1 v1.5\n",
    "def build_message(m, N):\n",
    "    sha_id = \"3031300d060960864801650304020105000420\"\n",
    "    N_len = (len(bin(N)) - 2 + 7) // 8\n",
    "    pad_len = (len(hex(N)) - 2) // 2 - 3 - len(m)//2 - len(sha_id)//2\n",
    "    padded_m = \"0001\" + \"ff\" * pad_len + \"00\" + sha_id + m\n",
    "    return padded_m\n",
    "\n",
    "print(\"Message:       {}\".format(m))\n",
    "\n",
    "# Encode message\n",
    "hashed_m = hexlify(hash_object.digest()).decode()\n",
    "padded_m = build_message(hashed_m, N)\n",
    "msg = int.from_bytes(unhexlify(padded_m), byteorder='big')\n",
    "print(\"Padded/hashed: {}\".format(padded_m))"
   ]
  },
  {
   "cell_type": "code",
   "execution_count": 6,
   "id": "017239f6",
   "metadata": {},
   "outputs": [
    {
     "name": "stdout",
     "output_type": "stream",
     "text": [
      "Signature:  0x4f09799f6a59081b725599753330b7a2440abc42606601622fe0c582646e32555303e1062a2989d9b4c265431adb58dd85bb33c4bb237a311bc40c1279528fd6bb36f94f534a4d8284a18ab8e5670e734c55a6ccab5fb5eae02ba37e2d56648d7a13bbf17a0e07d607c07cbb72c7a7a77076376e8434ce6e136832dc95db3d80\n",
      "s == s_crt? True\n"
     ]
    }
   ],
   "source": [
    "# Signature RSA-CRT\n",
    "from gmpy2 import invert, powmod, gcd, gcdext\n",
    "\n",
    "# Paramètres RSA\n",
    "p = 0xc36d0eb7fcd285223cfb5aaba5bda3d82c01cad19ea484a87ea4377637e75500fcb2005c5c7dd6ec4ac023cda285d796c3d9e75e1efc42488bb4f1d13ac30a57\n",
    "q = 0xc000df51a7c77ae8d7c7370c1ff55b69e211c2b9e5db1ed0bf61d0d9899620f4910e4168387e3c30aa1e00c339a795088452dd96a9a5ea5d9dca68da636032af\n",
    "\n",
    "#Calcul de phi et de d\n",
    "phi = (p - 1) * (q - 1)\n",
    "d = invert(e, phi)\n",
    "\n",
    "#Paramètres CRT : calculs de dp, dq, qinv\n",
    "dp = d % (p - 1)\n",
    "dq = d % (q - 1)\n",
    "qinv = invert(q, p)\n",
    "\n",
    "#Calculs internes du CRT : sp, sq et la signature finale (notée s_crt)\n",
    "sp = powmod(msg, dp, p)\n",
    "sq = powmod(msg, dq, q)\n",
    "h = (qinv * (sp - sq)) % p\n",
    "s_crt = sq + h * q\n",
    "\n",
    "#Utiliser la signature précédente correcte, et vérifier que les deux signatures RSA-CRT et non-CRT sont égales\n",
    "s = int.from_bytes(sig, byteorder='big') \n",
    "print(\"Signature:  {}\".format(hex(s)))\n",
    "print(\"s == s_crt? {}\".format(s == s_crt))"
   ]
  },
  {
   "attachments": {},
   "cell_type": "markdown",
   "id": "7e153bf9",
   "metadata": {},
   "source": [
    "### 2/2/Injection de fautes"
   ]
  },
  {
   "cell_type": "code",
   "execution_count": 7,
   "id": "718bdd3f",
   "metadata": {},
   "outputs": [
    {
     "name": "stdout",
     "output_type": "stream",
     "text": [
      "s_corrupted == s_crt? False\n"
     ]
    }
   ],
   "source": [
    "# Injection de fautes (bit flip) aléatoires dans sp\n",
    "from random import randint, sample\n",
    "\n",
    "# Inversion arbitraire de bits dans sp, et calcul de la signature corrompue\n",
    "sp_corrupted = sp ^ (1 << randint(0, 1024))\n",
    "s_corrupted = sq + ((qinv * (sp_corrupted - sq)) % p) * q\n",
    "print(\"s_corrupted == s_crt? {}\".format(s_corrupted == s_crt))"
   ]
  },
  {
   "attachments": {},
   "cell_type": "markdown",
   "id": "88664aeb",
   "metadata": {},
   "source": [
    "### 2/3/Exploitation des fautes"
   ]
  },
  {
   "cell_type": "code",
   "execution_count": 8,
   "id": "81ce2a09",
   "metadata": {},
   "outputs": [
    {
     "name": "stdout",
     "output_type": "stream",
     "text": [
      "\n",
      "---------------------Attacking with DFA-----------------\n",
      "\n",
      "Signature corrompu : 0x48de1667c933b1b3ff5059208326d8b33de42720b4f9eff9949eae73fc512125d646e3b9c924b0bcb8632a6940c184bcc7625673d029531c20b13c4f954ff0f7ed9948a57ab04dcb3bd2f0209af978a6cc8578fbc8c08888b7ef916f2180a8e51fabdf465d67acdc836d2426b47da87617c9a00c5892a3d9d8ce68fe10dd548\n",
      "\n",
      "Signature non corrompu : 0x4f09799f6a59081b725599753330b7a2440abc42606601622fe0c582646e32555303e1062a2989d9b4c265431adb58dd85bb33c4bb237a311bc40c1279528fd6bb36f94f534a4d8284a18ab8e5670e734c55a6ccab5fb5eae02ba37e2d56648d7a13bbf17a0e07d607c07cbb72c7a7a77076376e8434ce6e136832dc95db3d80\n",
      "\n",
      "N : 0x9292758453063d803dd603d5e777d7888ed1d5bf35786190fa2f23ebc0848aeadda92ca6c3d80b32c4d109be0f36d6ae7130b9ced7acdf54cfc7555ac14eebab93a89813fbf3c4f8066d2d800f7c38a81ae31942917403ff4946b0a83d3d3e05ee57c6f5f5606fb5d4bc6cd34ee0801a5e94bb77b07507233a0bc7bac8f90f79\n",
      "\n",
      "diff : 0x4a7b9838edc5cd00326093e32afe4a17102c79d0551662629696da9b24a92042f59f72ca8d973ecde93c329c86cf4091b9450e5d7e20e4ff59b8f84d7ffd90c73c5d64c4fb9f48a5d0e45bb6dbb776e8df8d4f3ceed3ad6254acaa673b3e59ff2818fdfd14378d083f89aa79077fcd200ef99d6dbeaba43075db4c4cb4cd6838\n",
      "\n",
      "p_found = 0xc36d0eb7fcd285223cfb5aaba5bda3d82c01cad19ea484a87ea4377637e75500fcb2005c5c7dd6ec4ac023cda285d796c3d9e75e1efc42488bb4f1d13ac30a57\n",
      "\n",
      "q_found = 0xc000df51a7c77ae8d7c7370c1ff55b69e211c2b9e5db1ed0bf61d0d9899620f4910e4168387e3c30aa1e00c339a795088452dd96a9a5ea5d9dca68da636032af\n",
      "p et q sont corrects !\n"
     ]
    }
   ],
   "source": [
    "# Variante de l'attaque de Bellcore n°1 : retrouver p et q à partir de la signature correcte et fautée (DFA)\n",
    "print(\"\\n---------------------Attacking with DFA-----------------\")\n",
    "\n",
    "from math import gcd \n",
    "print(\"\\nSignature corrompu :\", hex(s_corrupted))\n",
    "print(\"\\nSignature non corrompu :\", hex(s_crt))\n",
    "print(\"\\nN :\", hex(N))\n",
    "\n",
    "diff = abs(s_corrupted - s_crt)\n",
    "print(\"\\ndiff :\", hex(diff))\n",
    "\n",
    "q_dfa = gcd(diff, N)\n",
    "\n",
    "if q_dfa == 1:\n",
    "    print(\"q n'a pas été trouvé !\")\n",
    "    exit()\n",
    "\n",
    "p_dfa = N // q_dfa\n",
    "\n",
    "print(\"\\np_found =\" ,hex(p_dfa))\n",
    "print(\"\\nq_found =\" ,hex(q_dfa))\n",
    "\n",
    "# Vérifier que p et q sont corrects\n",
    "assert p_dfa * q_dfa == N, \"p et q ne sont pas corrects !\"\n",
    "print(\"p et q sont corrects !\")"
   ]
  },
  {
   "cell_type": "code",
   "execution_count": 9,
   "id": "6232131f",
   "metadata": {},
   "outputs": [
    {
     "name": "stdout",
     "output_type": "stream",
     "text": [
      "\n",
      "---------------------Attacking with SFA-----------------\n",
      "msg = 0x1ffffffffffffffffffffffffffffffffffffffffffffffffffffffffffffffffffffffffffffffffffffffffffffffffffffffffffffffffffffffffffffffffffffffffffffffffffff003031300d0609608648016503040201050004207f83b1657ff1fc53b92dc18148a1d65dfc2d4b1fa3d677284addd200126d9069\n",
      "\n",
      "p_sfa = 0xc000df51a7c77ae8d7c7370c1ff55b69e211c2b9e5db1ed0bf61d0d9899620f4910e4168387e3c30aa1e00c339a795088452dd96a9a5ea5d9dca68da636032af\n",
      "\n",
      "q_sfa = 0xc36d0eb7fcd285223cfb5aaba5bda3d82c01cad19ea484a87ea4377637e75500fcb2005c5c7dd6ec4ac023cda285d796c3d9e75e1efc42488bb4f1d13ac30a57\n",
      "p et q sont corrects !\n"
     ]
    }
   ],
   "source": [
    "# Variante de l'attaque de Bellcore n°2 : retrouver p et q à partir de seulement une signature fautée (SFA)\n",
    "\n",
    "\n",
    "print(\"\\n---------------------Attacking with SFA-----------------\")\n",
    "\n",
    "delta = (powmod(s_corrupted, e, N) - msg) % N\n",
    "print(\"msg =\", hex(msg))\n",
    "p_sfa = gcd(delta, N)\n",
    "q_sfa = N // p_sfa\n",
    "\n",
    "print(\"\\np_sfa =\" ,hex(p_sfa))\n",
    "print(\"\\nq_sfa =\" ,hex(q_sfa))\n",
    "assert p_sfa * q_sfa == N, \"p et q ne sont pas corrects !\"\n",
    "print(\"p et q sont corrects !\")\n"
   ]
  },
  {
   "cell_type": "code",
   "execution_count": 10,
   "id": "59ddf9a5",
   "metadata": {},
   "outputs": [
    {
     "name": "stdout",
     "output_type": "stream",
     "text": [
      "\n",
      "d_dfa = 0x24bf6185468786fdd303083d25e64efc66ca472bc44d253102f8b4a9d3bfa75091386c0077937fe33fa3252d28855837ae1b484a8a9a45f7ee8c0c634f99e8cddf79c5ce07ee72c7f123142198164234cabb724cf78b8173b9f880fc86322407af1fedfdde2beb674ca15f3e81a1521e071513a1e85b5dfa031f21ecae91a34d\n",
      "\n",
      "d_sfa = 0x24bf6185468786fdd303083d25e64efc66ca472bc44d253102f8b4a9d3bfa75091386c0077937fe33fa3252d28855837ae1b484a8a9a45f7ee8c0c634f99e8cddf79c5ce07ee72c7f123142198164234cabb724cf78b8173b9f880fc86322407af1fedfdde2beb674ca15f3e81a1521e071513a1e85b5dfa031f21ecae91a34d\n"
     ]
    }
   ],
   "source": [
    "# Calcul de d\n",
    "\n",
    "phi_dfa = (p_dfa - 1) * (q_dfa - 1)\n",
    "d_dfa = invert(e, phi_dfa)\n",
    "phi_sfa = (p_sfa - 1) * (q_sfa - 1)\n",
    "d_sfa = invert(e, phi_sfa)\n",
    "\n",
    "print(\"\\nd_dfa =\" ,hex(d_dfa))\n",
    "print(\"\\nd_sfa =\" ,hex(d_sfa))\n"
   ]
  },
  {
   "cell_type": "code",
   "execution_count": 12,
   "id": "12c6097f",
   "metadata": {},
   "outputs": [
    {
     "ename": "NameError",
     "evalue": "name 'message' is not defined",
     "output_type": "error",
     "traceback": [
      "\u001b[0;31m---------------------------------------------------------------------------\u001b[0m",
      "\u001b[0;31mNameError\u001b[0m                                 Traceback (most recent call last)",
      "Cell \u001b[0;32mIn[12], line 9\u001b[0m\n\u001b[1;32m      1\u001b[0m \u001b[39m# Maintenant que l'on a retrouvé tous les paramètres, on peut déchiffrer le message\u001b[39;00m\n\u001b[1;32m      2\u001b[0m \n\u001b[1;32m      3\u001b[0m \n\u001b[0;32m   (...)\u001b[0m\n\u001b[1;32m      7\u001b[0m \n\u001b[1;32m      8\u001b[0m \u001b[39m# Chiffrement du message avec d\u001b[39;00m\n\u001b[0;32m----> 9\u001b[0m ciphertext \u001b[39m=\u001b[39m powmod(message, d, N)\n\u001b[1;32m     11\u001b[0m \u001b[39m# Déchiffrement avec d_dfa\u001b[39;00m\n\u001b[1;32m     12\u001b[0m phi_dfa \u001b[39m=\u001b[39m (p_dfa \u001b[39m-\u001b[39m \u001b[39m1\u001b[39m) \u001b[39m*\u001b[39m (q_dfa \u001b[39m-\u001b[39m \u001b[39m1\u001b[39m)\n",
      "\u001b[0;31mNameError\u001b[0m: name 'message' is not defined"
     ]
    }
   ],
   "source": [
    "# Maintenant que l'on a retrouvé tous les paramètres, on peut déchiffrer le message\n",
    "\n",
    "\n",
    "\n",
    "\n",
    "\n",
    "\n",
    "\n"
   ]
  },
  {
   "attachments": {},
   "cell_type": "markdown",
   "id": "ab15f974",
   "metadata": {},
   "source": [
    "# Questions additionnelles :\n"
   ]
  },
  {
   "attachments": {},
   "cell_type": "markdown",
   "id": "f416fe09",
   "metadata": {},
   "source": [
    "## 1/Si on faute sq, est-ce que l'attaque réussit ?"
   ]
  },
  {
   "attachments": {},
   "cell_type": "markdown",
   "id": "b4938b69",
   "metadata": {},
   "source": [
    "L'attaque de Bellcore sur le RSA-CRT exploite le fait qu'une erreur dans l'une des deux signatures partielles (typiquement sp) permet de retrouver un facteur de N. Si une faute est injectée dans \n",
    "sq au lieu de sp,le principe reste le même. La différence réside dans la façon dont la faute est exploitée, mais l'attaque peut toujours réussir si la faute est correctement injectée et exploitée."
   ]
  },
  {
   "attachments": {},
   "cell_type": "markdown",
   "id": "f322afe3",
   "metadata": {},
   "source": [
    "## 2/Si on faute iq, est-ce que l'attaque réussit ?\n"
   ]
  },
  {
   "attachments": {},
   "cell_type": "markdown",
   "id": "1a8adce5",
   "metadata": {},
   "source": []
  },
  {
   "attachments": {},
   "cell_type": "markdown",
   "id": "9382c012",
   "metadata": {},
   "source": [
    "## 3/Ecrire le schéma de protection \"BOS Algorithm\", et tenter de reproduire les fautes qui contournent cette protection. Idem pour la variante \"BOS+\".\n"
   ]
  },
  {
   "attachments": {},
   "cell_type": "markdown",
   "id": "e3a2ab0c",
   "metadata": {},
   "source": []
  },
  {
   "attachments": {},
   "cell_type": "markdown",
   "id": "7cf92878",
   "metadata": {},
   "source": [
    "## 4/Même question pour le schéma de Vigilant"
   ]
  },
  {
   "attachments": {},
   "cell_type": "markdown",
   "id": "63e7314c",
   "metadata": {},
   "source": []
  }
 ],
 "metadata": {
  "kernelspec": {
   "display_name": "Python 3 (ipykernel)",
   "language": "python",
   "name": "python3"
  },
  "language_info": {
   "codemirror_mode": {
    "name": "ipython",
    "version": 3
   },
   "file_extension": ".py",
   "mimetype": "text/x-python",
   "name": "python",
   "nbconvert_exporter": "python",
   "pygments_lexer": "ipython3",
   "version": "3.11.2"
  }
 },
 "nbformat": 4,
 "nbformat_minor": 5
}
