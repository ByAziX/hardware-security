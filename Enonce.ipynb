{
 "cells": [
  {
   "cell_type": "markdown",
   "id": "d2c0895d",
   "metadata": {},
   "source": [
    "# TP DFA dans RSA-CRT"
   ]
  },
  {
   "cell_type": "markdown",
   "id": "8754c3b0",
   "metadata": {},
   "source": [
    "## 1/Prise en main de la librarie crypto Python PyCryptodome"
   ]
  },
  {
   "cell_type": "code",
   "execution_count": 6,
   "id": "5ff7b84e",
   "metadata": {},
   "outputs": [
    {
     "name": "stdout",
     "output_type": "stream",
     "text": [
      "r4F09799F6A59081B725599753330B7A2440ABC42606601622FE0C582646E32555303E1062A2989D9B4C265431ADB58DD\n",
      "z00\n",
      "r85BB33C4BB237A311BC40C1279528FD6BB36F94F534A4D8284A18AB8E5670E734C55A6CCAB5FB5EAE02BA37E2D56648D\n",
      "z00\n",
      "r7A13BBF17A0E07D607C07CBB72C7A7A77076376E8434CE6E136832DC95DB3D80\n",
      "z00\n"
     ]
    }
   ],
   "source": [
    "#output est le résultat de la signature du message \"Hello World!\" par le protocole PKCS#1v1.5 utilisant la fonction de hachage \n",
    "#SHA-256\n",
    "output = \"r4F09799F6A59081B725599753330B7A2440ABC42606601622FE0C582646E32555303E1062A2989D9B4C265431ADB58DD\\nz00\\nr85BB33C4BB237A311BC40C1279528FD6BB36F94F534A4D8284A18AB8E5670E734C55A6CCAB5FB5EAE02BA37E2D56648D\\nz00\\nr7A13BBF17A0E07D607C07CBB72C7A7A77076376E8434CE6E136832DC95DB3D80\\nz00\"\n",
    "print(output)"
   ]
  },
  {
   "cell_type": "code",
   "execution_count": 7,
   "id": "10ed5f23",
   "metadata": {},
   "outputs": [
    {
     "name": "stdout",
     "output_type": "stream",
     "text": [
      "4F09799F6A59081B725599753330B7A2440ABC42606601622FE0C582646E32555303E1062A2989D9B4C265431ADB58DD85BB33C4BB237A311BC40C1279528FD6BB36F94F534A4D8284A18AB8E5670E734C55A6CCAB5FB5EAE02BA37E2D56648D7A13BBF17A0E07D607C07CBB72C7A7A77076376E8434CE6E136832DC95DB3D80\n"
     ]
    }
   ],
   "source": [
    "#On affiche le résultat en hexadécimal\n",
    "newout = output.replace(\"r\", \"\").replace(\"\\nz00\",\"\").replace(\"\\n\",\"\")\n",
    "print(newout)"
   ]
  },
  {
   "cell_type": "code",
   "execution_count": 8,
   "id": "ffcd4842",
   "metadata": {},
   "outputs": [
    {
     "name": "stdout",
     "output_type": "stream",
     "text": [
      "b'O\\ty\\x9fjY\\x08\\x1brU\\x99u30\\xb7\\xa2D\\n\\xbcB`f\\x01b/\\xe0\\xc5\\x82dn2US\\x03\\xe1\\x06*)\\x89\\xd9\\xb4\\xc2eC\\x1a\\xdbX\\xdd\\x85\\xbb3\\xc4\\xbb#z1\\x1b\\xc4\\x0c\\x12yR\\x8f\\xd6\\xbb6\\xf9OSJM\\x82\\x84\\xa1\\x8a\\xb8\\xe5g\\x0esLU\\xa6\\xcc\\xab_\\xb5\\xea\\xe0+\\xa3~-Vd\\x8dz\\x13\\xbb\\xf1z\\x0e\\x07\\xd6\\x07\\xc0|\\xbbr\\xc7\\xa7\\xa7pv7n\\x844\\xcen\\x13h2\\xdc\\x95\\xdb=\\x80'\n"
     ]
    }
   ],
   "source": [
    "#Conversion en binaire avec binascii\n",
    "from binascii import unhexlify, hexlify\n",
    "sig = unhexlify(newout)\n",
    "print(sig)"
   ]
  },
  {
   "cell_type": "code",
   "execution_count": 9,
   "id": "f0a75e17",
   "metadata": {},
   "outputs": [],
   "source": [
    "#Chargement des fonctions cryptographiques nécessaires de PyCryptodome\n",
    "#Chargement du RSA :\n",
    "from Crypto.PublicKey import RSA\n",
    "#/!\\Ajouter PKCS_v1_5 et SHA256\n",
    "\n",
    "#Clé publique \n",
    "e = 0x10001\n",
    "N = 0x9292758453063D803DD603D5E777D7888ED1D5BF35786190FA2F23EBC0848AEADDA92CA6C3D80B32C4D109BE0F36D6AE7130B9CED7ACDF54CFC7555AC14EEBAB93A89813FBF3C4F8066D2D800F7C38A81AE31942917403FF4946B0A83D3D3E05EE57C6F5F5606FB5D4BC6CD34EE0801A5E94BB77B07507233A0BC7BAC8F90F79\n",
    "\n",
    "#Message\n",
    "m = b\"Hello World!\"\n",
    "\n",
    "#Hashage du message avec SHA-256 et affichage du hashé (nommé \"hash_object\")\n",
    "\n",
    "#Construction de la clé publique RSA, et affichage en format PEM (les formats DER et OpenSSH sont aussi disponibles) \n",
    "\n",
    "#Vérification de la signature PKCS v1.5 du message\n",
    "\n",
    "#Afficher \"True\" si la signature est vérifiée (utiliser assert)"
   ]
  },
  {
   "cell_type": "markdown",
   "id": "d61092ac",
   "metadata": {},
   "source": [
    "## 2/Simulation des fautes dans le RSA-CRT"
   ]
  },
  {
   "cell_type": "markdown",
   "id": "7113a5e6",
   "metadata": {},
   "source": [
    "### 2/1/Calcul du RSA-CRT"
   ]
  },
  {
   "cell_type": "raw",
   "id": "b04beb76",
   "metadata": {},
   "source": [
    "Le message est signé selon PKCS#1 v1.5, suivant la méthode de rembourrage (padding) suivant : |00|01|ff...|00|hash_prefix|message_hash| \n",
    "Ici, \"ff...\" est une chaîne d'octets \"ff\" suffisamment longue pour que la taille du message paddé soit la même que celle du modulo N, et \"hash_prefix\" est un numéro d'identifiant pour la fonction de hachage utilisé sur \"message_hash\". Ici, c'est SHA256 qui est utilisé, et il a le préfixe \"3031300d060960864801650304020105000420\".\n",
    "\n",
    "La fonction build_message ci-dessous implémente tout ce processus :"
   ]
  },
  {
   "cell_type": "code",
   "execution_count": 11,
   "id": "c7b293d1",
   "metadata": {},
   "outputs": [
    {
     "name": "stdout",
     "output_type": "stream",
     "text": [
      "Message:       b'Hello World!'\n"
     ]
    },
    {
     "ename": "NameError",
     "evalue": "name 'SHA256' is not defined",
     "output_type": "error",
     "traceback": [
      "\u001b[1;31m---------------------------------------------------------------------------\u001b[0m",
      "\u001b[1;31mNameError\u001b[0m                                 Traceback (most recent call last)",
      "Input \u001b[1;32mIn [11]\u001b[0m, in \u001b[0;36m<cell line: 12>\u001b[1;34m()\u001b[0m\n\u001b[0;32m      9\u001b[0m \u001b[38;5;28mprint\u001b[39m(\u001b[38;5;124m\"\u001b[39m\u001b[38;5;124mMessage:       \u001b[39m\u001b[38;5;132;01m{}\u001b[39;00m\u001b[38;5;124m\"\u001b[39m\u001b[38;5;241m.\u001b[39mformat(m))\n\u001b[0;32m     11\u001b[0m \u001b[38;5;66;03m# Encode message\u001b[39;00m\n\u001b[1;32m---> 12\u001b[0m hash_object \u001b[38;5;241m=\u001b[39m \u001b[43mSHA256\u001b[49m\u001b[38;5;241m.\u001b[39mnew(data\u001b[38;5;241m=\u001b[39mm)\n\u001b[0;32m     13\u001b[0m hashed_m \u001b[38;5;241m=\u001b[39m hexlify(hash_object\u001b[38;5;241m.\u001b[39mdigest())\u001b[38;5;241m.\u001b[39mdecode()\n\u001b[0;32m     14\u001b[0m padded_m \u001b[38;5;241m=\u001b[39m build_message(hashed_m, N)\n",
      "\u001b[1;31mNameError\u001b[0m: name 'SHA256' is not defined"
     ]
    }
   ],
   "source": [
    "# Padding du PKCS#1 v1.5\n",
    "def build_message(m, N):\n",
    "    sha_id = \"3031300d060960864801650304020105000420\"\n",
    "    N_len = (len(bin(N)) - 2 + 7) // 8\n",
    "    pad_len = (len(hex(N)) - 2) // 2 - 3 - len(m)//2 - len(sha_id)//2\n",
    "    padded_m = \"0001\" + \"ff\" * pad_len + \"00\" + sha_id + m\n",
    "    return padded_m\n",
    "\n",
    "print(\"Message:       {}\".format(m))\n",
    "\n",
    "# Encode message\n",
    "hash_object = SHA256.new(data=m)\n",
    "hashed_m = hexlify(hash_object.digest()).decode()\n",
    "padded_m = build_message(hashed_m, N)\n",
    "msg = int.from_bytes(unhexlify(padded_m), byteorder='big') \n",
    "print(\"Padded/hashed: {}\".format(padded_m))"
   ]
  },
  {
   "cell_type": "code",
   "execution_count": 13,
   "id": "017239f6",
   "metadata": {},
   "outputs": [
    {
     "name": "stdout",
     "output_type": "stream",
     "text": [
      "Signature:  0x4f09799f6a59081b725599753330b7a2440abc42606601622fe0c582646e32555303e1062a2989d9b4c265431adb58dd85bb33c4bb237a311bc40c1279528fd6bb36f94f534a4d8284a18ab8e5670e734c55a6ccab5fb5eae02ba37e2d56648d7a13bbf17a0e07d607c07cbb72c7a7a77076376e8434ce6e136832dc95db3d80\n"
     ]
    },
    {
     "ename": "NameError",
     "evalue": "name 's_crt' is not defined",
     "output_type": "error",
     "traceback": [
      "\u001b[1;31m---------------------------------------------------------------------------\u001b[0m",
      "\u001b[1;31mNameError\u001b[0m                                 Traceback (most recent call last)",
      "Input \u001b[1;32mIn [13]\u001b[0m, in \u001b[0;36m<cell line: 17>\u001b[1;34m()\u001b[0m\n\u001b[0;32m     15\u001b[0m s \u001b[38;5;241m=\u001b[39m \u001b[38;5;28mint\u001b[39m\u001b[38;5;241m.\u001b[39mfrom_bytes(sig, byteorder\u001b[38;5;241m=\u001b[39m\u001b[38;5;124m'\u001b[39m\u001b[38;5;124mbig\u001b[39m\u001b[38;5;124m'\u001b[39m) \n\u001b[0;32m     16\u001b[0m \u001b[38;5;28mprint\u001b[39m(\u001b[38;5;124m\"\u001b[39m\u001b[38;5;124mSignature:  \u001b[39m\u001b[38;5;132;01m{}\u001b[39;00m\u001b[38;5;124m\"\u001b[39m\u001b[38;5;241m.\u001b[39mformat(\u001b[38;5;28mhex\u001b[39m(s)))\n\u001b[1;32m---> 17\u001b[0m \u001b[38;5;28mprint\u001b[39m(\u001b[38;5;124m\"\u001b[39m\u001b[38;5;124ms == s_crt? \u001b[39m\u001b[38;5;132;01m{}\u001b[39;00m\u001b[38;5;124m\"\u001b[39m\u001b[38;5;241m.\u001b[39mformat(s \u001b[38;5;241m==\u001b[39m \u001b[43ms_crt\u001b[49m))\n",
      "\u001b[1;31mNameError\u001b[0m: name 's_crt' is not defined"
     ]
    }
   ],
   "source": [
    "# Signature RSA-CRT\n",
    "from gmpy2 import invert, powmod, gcd, gcdext\n",
    "\n",
    "# Paramètres RSA\n",
    "p = 0xc36d0eb7fcd285223cfb5aaba5bda3d82c01cad19ea484a87ea4377637e75500fcb2005c5c7dd6ec4ac023cda285d796c3d9e75e1efc42488bb4f1d13ac30a57\n",
    "q = 0xc000df51a7c77ae8d7c7370c1ff55b69e211c2b9e5db1ed0bf61d0d9899620f4910e4168387e3c30aa1e00c339a795088452dd96a9a5ea5d9dca68da636032af\n",
    "\n",
    "#Calcul de phi et de d\n",
    "\n",
    "#Paramètres CRT : calculs de dp, dq, qinv\n",
    "\n",
    "#Calculs internes du CRT : sp, sq et la signature finale (notée s_crt)\n",
    "\n",
    "#Utiliser la signature précédente correcte, et vérifier que les deux signatures RSA-CRT et non-CRT sont égales\n",
    "s = int.from_bytes(sig, byteorder='big') \n",
    "print(\"Signature:  {}\".format(hex(s)))\n",
    "print(\"s == s_crt? {}\".format(s == s_crt))"
   ]
  },
  {
   "cell_type": "markdown",
   "id": "7e153bf9",
   "metadata": {},
   "source": [
    "### 2/2/Injection de fautes"
   ]
  },
  {
   "cell_type": "code",
   "execution_count": 14,
   "id": "718bdd3f",
   "metadata": {},
   "outputs": [],
   "source": [
    "# Injection de fautes (bit flip) aléatoires dans sp\n",
    "from random import randint, sample\n",
    "\n",
    "# Inversion arbitraire de bits dans sp, et calcul de la signature corrompue"
   ]
  },
  {
   "cell_type": "markdown",
   "id": "ad5d56b6",
   "metadata": {},
   "source": [
    "### 2/3/Exploitation des fautes"
   ]
  },
  {
   "cell_type": "code",
   "execution_count": 15,
   "id": "e55ab777",
   "metadata": {},
   "outputs": [],
   "source": [
    "# Variante de l'attaque de Bellcore n°1 : retrouver p et q à partir de la signature correcte et fautée (DFA)"
   ]
  },
  {
   "cell_type": "code",
   "execution_count": 16,
   "id": "6232131f",
   "metadata": {},
   "outputs": [],
   "source": [
    "# Variante de l'attaque de Bellcore n°2 : retrouver p et q à partir de seulement une signature fautée (SFA)"
   ]
  },
  {
   "cell_type": "code",
   "execution_count": 17,
   "id": "59ddf9a5",
   "metadata": {},
   "outputs": [],
   "source": [
    "# Calcul de d"
   ]
  },
  {
   "cell_type": "code",
   "execution_count": 18,
   "id": "12c6097f",
   "metadata": {},
   "outputs": [],
   "source": [
    "# Maintenant que l'on a retrouvé tous les paramètres, on peut déchiffrer le message"
   ]
  },
  {
   "cell_type": "markdown",
   "id": "ab15f974",
   "metadata": {},
   "source": [
    "# Questions additionnelles :\n"
   ]
  },
  {
   "cell_type": "markdown",
   "id": "f416fe09",
   "metadata": {},
   "source": [
    "## 1/Si on faute sq, est-ce que l'attaque réussit ?\n",
    "## 2/Si on faute iq, est-ce que l'attaque réussit ?\n",
    "## 3/Ecrire le schéma de protection \"BOS Algorithm\", et tenter de reproduire les fautes qui contournent cette protection. Idem pour la variante \"BOS+\".\n",
    "## 4/Même question pour le schéma de Vigilant"
   ]
  },
  {
   "cell_type": "code",
   "execution_count": null,
   "id": "7358e4e1",
   "metadata": {},
   "outputs": [],
   "source": []
  }
 ],
 "metadata": {
  "kernelspec": {
   "display_name": "Python 3 (ipykernel)",
   "language": "python",
   "name": "python3"
  },
  "language_info": {
   "codemirror_mode": {
    "name": "ipython",
    "version": 3
   },
   "file_extension": ".py",
   "mimetype": "text/x-python",
   "name": "python",
   "nbconvert_exporter": "python",
   "pygments_lexer": "ipython3",
   "version": "3.9.12"
  }
 },
 "nbformat": 4,
 "nbformat_minor": 5
}
