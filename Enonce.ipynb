{
 "cells": [
  {
   "attachments": {},
   "cell_type": "markdown",
   "id": "d2c0895d",
   "metadata": {},
   "source": [
    "# TP DFA dans RSA-CRT"
   ]
  },
  {
   "attachments": {},
   "cell_type": "markdown",
   "id": "8754c3b0",
   "metadata": {},
   "source": [
    "## 1/Prise en main de la librarie crypto Python PyCryptodome"
   ]
  },
  {
   "cell_type": "code",
   "execution_count": 73,
   "id": "5ff7b84e",
   "metadata": {},
   "outputs": [
    {
     "name": "stdout",
     "output_type": "stream",
     "text": [
      "r4F09799F6A59081B725599753330B7A2440ABC42606601622FE0C582646E32555303E1062A2989D9B4C265431ADB58DD\n",
      "z00\n",
      "r85BB33C4BB237A311BC40C1279528FD6BB36F94F534A4D8284A18AB8E5670E734C55A6CCAB5FB5EAE02BA37E2D56648D\n",
      "z00\n",
      "r7A13BBF17A0E07D607C07CBB72C7A7A77076376E8434CE6E136832DC95DB3D80\n",
      "z00\n"
     ]
    }
   ],
   "source": [
    "#output est le résultat de la signature du message \"Hello World!\" par le protocole PKCS#1v1.5 utilisant la fonction de hachage \n",
    "#SHA-256\n",
    "output = \"r4F09799F6A59081B725599753330B7A2440ABC42606601622FE0C582646E32555303E1062A2989D9B4C265431ADB58DD\\nz00\\nr85BB33C4BB237A311BC40C1279528FD6BB36F94F534A4D8284A18AB8E5670E734C55A6CCAB5FB5EAE02BA37E2D56648D\\nz00\\nr7A13BBF17A0E07D607C07CBB72C7A7A77076376E8434CE6E136832DC95DB3D80\\nz00\"\n",
    "print(output)"
   ]
  },
  {
   "cell_type": "code",
   "execution_count": 74,
   "id": "10ed5f23",
   "metadata": {},
   "outputs": [
    {
     "name": "stdout",
     "output_type": "stream",
     "text": [
      "4F09799F6A59081B725599753330B7A2440ABC42606601622FE0C582646E32555303E1062A2989D9B4C265431ADB58DD85BB33C4BB237A311BC40C1279528FD6BB36F94F534A4D8284A18AB8E5670E734C55A6CCAB5FB5EAE02BA37E2D56648D7A13BBF17A0E07D607C07CBB72C7A7A77076376E8434CE6E136832DC95DB3D80\n"
     ]
    }
   ],
   "source": [
    "#On affiche le résultat en hexadécimal\n",
    "newout = output.replace(\"r\", \"\").replace(\"\\nz00\",\"\").replace(\"\\n\",\"\")\n",
    "print(newout)"
   ]
  },
  {
   "cell_type": "code",
   "execution_count": 75,
   "id": "ffcd4842",
   "metadata": {},
   "outputs": [
    {
     "name": "stdout",
     "output_type": "stream",
     "text": [
      "b'O\\ty\\x9fjY\\x08\\x1brU\\x99u30\\xb7\\xa2D\\n\\xbcB`f\\x01b/\\xe0\\xc5\\x82dn2US\\x03\\xe1\\x06*)\\x89\\xd9\\xb4\\xc2eC\\x1a\\xdbX\\xdd\\x85\\xbb3\\xc4\\xbb#z1\\x1b\\xc4\\x0c\\x12yR\\x8f\\xd6\\xbb6\\xf9OSJM\\x82\\x84\\xa1\\x8a\\xb8\\xe5g\\x0esLU\\xa6\\xcc\\xab_\\xb5\\xea\\xe0+\\xa3~-Vd\\x8dz\\x13\\xbb\\xf1z\\x0e\\x07\\xd6\\x07\\xc0|\\xbbr\\xc7\\xa7\\xa7pv7n\\x844\\xcen\\x13h2\\xdc\\x95\\xdb=\\x80'\n"
     ]
    }
   ],
   "source": [
    "#Conversion en binaire avec binascii\n",
    "from binascii import unhexlify, hexlify\n",
    "sig = unhexlify(newout)\n",
    "print(sig)"
   ]
  },
  {
   "cell_type": "code",
   "execution_count": 76,
   "id": "f0a75e17",
   "metadata": {},
   "outputs": [
    {
     "name": "stdout",
     "output_type": "stream",
     "text": [
      "7f83b1657ff1fc53b92dc18148a1d65dfc2d4b1fa3d677284addd200126d9069\n",
      "True\n"
     ]
    }
   ],
   "source": [
    "#Chargement des fonctions cryptographiques nécessaires de PyCryptodome\n",
    "#Chargement du RSA :\n",
    "\n",
    "from Crypto.PublicKey import RSA\n",
    "#/!\\Ajouter PKCS_v1_5 et SHA256\n",
    "from Crypto.Hash import SHA256\n",
    "from Crypto.Signature import PKCS1_v1_5\n",
    "\n",
    "#Clé publique \n",
    "e = 0x10001\n",
    "N = 0x9292758453063D803DD603D5E777D7888ED1D5BF35786190FA2F23EBC0848AEADDA92CA6C3D80B32C4D109BE0F36D6AE7130B9CED7ACDF54CFC7555AC14EEBAB93A89813FBF3C4F8066D2D800F7C38A81AE31942917403FF4946B0A83D3D3E05EE57C6F5F5606FB5D4BC6CD34EE0801A5E94BB77B07507233A0BC7BAC8F90F79\n",
    "\n",
    "#Message\n",
    "m = b\"Hello World!\"\n",
    "\n",
    "#Hashage du message avec SHA-256 et affichage du hashé (nommé \"hash_object\")\n",
    "hash_object = SHA256.new(data=m)\n",
    "print(hash_object.hexdigest())\n",
    "#Construction de la clé publique RSA, et affichage en format PEM (les formats DER et OpenSSH sont aussi disponibles) \n",
    "public_key = RSA.construct((N, e))\n",
    "\n",
    "#Vérification de la signature PKCS v1.5 du message\n",
    "verifier = PKCS1_v1_5.new(public_key)\n",
    "is_verified = verifier.verify(hash_object, sig)\n",
    "\n",
    "#Afficher \"True\" si la signature est vérifiée (utiliser assert)\n",
    "assert is_verified is True, \"La signature n'est pas valide !\"\n",
    "print(is_verified)\n",
    "\n",
    "\n"
   ]
  },
  {
   "attachments": {},
   "cell_type": "markdown",
   "id": "d61092ac",
   "metadata": {},
   "source": [
    "## 2/Simulation des fautes dans le RSA-CRT"
   ]
  },
  {
   "attachments": {},
   "cell_type": "markdown",
   "id": "7113a5e6",
   "metadata": {},
   "source": [
    "### 2/1/Calcul du RSA-CRT"
   ]
  },
  {
   "cell_type": "raw",
   "id": "b04beb76",
   "metadata": {},
   "source": [
    "Le message est signé selon PKCS#1 v1.5, suivant la méthode de rembourrage (padding) suivant : |00|01|ff...|00|hash_prefix|message_hash| \n",
    "Ici, \"ff...\" est une chaîne d'octets \"ff\" suffisamment longue pour que la taille du message paddé soit la même que celle du modulo N, et \"hash_prefix\" est un numéro d'identifiant pour la fonction de hachage utilisé sur \"message_hash\". Ici, c'est SHA256 qui est utilisé, et il a le préfixe \"3031300d060960864801650304020105000420\".\n",
    "\n",
    "La fonction build_message ci-dessous implémente tout ce processus :"
   ]
  },
  {
   "cell_type": "code",
   "execution_count": 77,
   "id": "c7b293d1",
   "metadata": {},
   "outputs": [
    {
     "name": "stdout",
     "output_type": "stream",
     "text": [
      "Message:       b'Hello World!'\n",
      "Padded/hashed: 0001ffffffffffffffffffffffffffffffffffffffffffffffffffffffffffffffffffffffffffffffffffffffffffffffffffffffffffffffffffffffffffffffffffffffffffffffffffff003031300d0609608648016503040201050004207f83b1657ff1fc53b92dc18148a1d65dfc2d4b1fa3d677284addd200126d9069\n"
     ]
    }
   ],
   "source": [
    "# Padding du PKCS#1 v1.5\n",
    "def build_message(m, N):\n",
    "    sha_id = \"3031300d060960864801650304020105000420\"\n",
    "    N_len = (len(bin(N)) - 2 + 7) // 8\n",
    "    pad_len = (len(hex(N)) - 2) // 2 - 3 - len(m)//2 - len(sha_id)//2\n",
    "    padded_m = \"0001\" + \"ff\" * pad_len + \"00\" + sha_id + m\n",
    "    return padded_m\n",
    "\n",
    "print(\"Message:       {}\".format(m))\n",
    "\n",
    "# Encode message\n",
    "hashed_m = hexlify(hash_object.digest()).decode()\n",
    "padded_m = build_message(hashed_m, N)\n",
    "msg = int.from_bytes(unhexlify(padded_m), byteorder='big')\n",
    "print(\"Padded/hashed: {}\".format(padded_m))"
   ]
  },
  {
   "cell_type": "code",
   "execution_count": 78,
   "id": "017239f6",
   "metadata": {},
   "outputs": [
    {
     "name": "stdout",
     "output_type": "stream",
     "text": [
      "Signature:  0x4f09799f6a59081b725599753330b7a2440abc42606601622fe0c582646e32555303e1062a2989d9b4c265431adb58dd85bb33c4bb237a311bc40c1279528fd6bb36f94f534a4d8284a18ab8e5670e734c55a6ccab5fb5eae02ba37e2d56648d7a13bbf17a0e07d607c07cbb72c7a7a77076376e8434ce6e136832dc95db3d80\n",
      "s == s_crt? True\n"
     ]
    }
   ],
   "source": [
    "# Signature RSA-CRT\n",
    "from gmpy2 import invert, powmod, gcd, gcdext\n",
    "\n",
    "# Paramètres RSA\n",
    "p = 0xc36d0eb7fcd285223cfb5aaba5bda3d82c01cad19ea484a87ea4377637e75500fcb2005c5c7dd6ec4ac023cda285d796c3d9e75e1efc42488bb4f1d13ac30a57\n",
    "q = 0xc000df51a7c77ae8d7c7370c1ff55b69e211c2b9e5db1ed0bf61d0d9899620f4910e4168387e3c30aa1e00c339a795088452dd96a9a5ea5d9dca68da636032af\n",
    "\n",
    "#Calcul de phi et de d\n",
    "phi = (p - 1) * (q - 1)\n",
    "d = invert(e, phi)\n",
    "\n",
    "#Paramètres CRT : calculs de dp, dq, qinv\n",
    "dp = d % (p - 1)\n",
    "dq = d % (q - 1)\n",
    "qinv = invert(q, p)\n",
    "\n",
    "#Calculs internes du CRT : sp, sq et la signature finale (notée s_crt)\n",
    "sp = powmod(msg, dp, p)\n",
    "sq = powmod(msg, dq, q)\n",
    "h = (qinv * (sp - sq)) % p\n",
    "s_crt = sq + h * q\n",
    "\n",
    "#Utiliser la signature précédente correcte, et vérifier que les deux signatures RSA-CRT et non-CRT sont égales\n",
    "s = int.from_bytes(sig, byteorder='big') \n",
    "print(\"Signature:  {}\".format(hex(s)))\n",
    "print(\"s == s_crt? {}\".format(s == s_crt))"
   ]
  },
  {
   "attachments": {},
   "cell_type": "markdown",
   "id": "7e153bf9",
   "metadata": {},
   "source": [
    "### 2/2/Injection de fautes"
   ]
  },
  {
   "cell_type": "code",
   "execution_count": 79,
   "id": "718bdd3f",
   "metadata": {},
   "outputs": [
    {
     "name": "stdout",
     "output_type": "stream",
     "text": [
      "s_corrupted == s_crt? False\n"
     ]
    }
   ],
   "source": [
    "# Injection de fautes (bit flip) aléatoires dans sp\n",
    "from random import randint, sample\n",
    "\n",
    "# Inversion arbitraire de bits dans sp, et calcul de la signature corrompue\n",
    "sp_corrupted = sp ^ (1 << randint(0, 1024))\n",
    "s_corrupted = sq + ((qinv * (sp_corrupted - sq)) % p) * q\n",
    "print(\"s_corrupted == s_crt? {}\".format(s_corrupted == s_crt))"
   ]
  },
  {
   "attachments": {},
   "cell_type": "markdown",
   "id": "88664aeb",
   "metadata": {},
   "source": [
    "### 2/3/Exploitation des fautes"
   ]
  },
  {
   "cell_type": "code",
   "execution_count": 80,
   "id": "81ce2a09",
   "metadata": {},
   "outputs": [
    {
     "name": "stdout",
     "output_type": "stream",
     "text": [
      "Signature corrompu : 9883803413954093625618549255134512119118988833653672785552732864724174864287412289197839069729073071335829593327489853513323780280799350404304257392212473088058948953055314093956000805276017384374110211708823145430504438140593670283829209142357659547164342610938199992144199920358232126978927041203204424729\n",
      "Signature non corrompu : 55501677339826817896119706964548043582255815171487612560416522826101444816707377310230452415645830288323890214427564673561709857313765071389529744979086823429917220296791725926126854242105267094511762454212496565575822442312716654717044129945069188181388016154383482831730580582304784487014748608233538796928\n",
      "p = 0xc36d0eb7fcd285223cfb5aaba5bda3d82c01cad19ea484a87ea4377637e75500fcb2005c5c7dd6ec4ac023cda285d796c3d9e75e1efc42488bb4f1d13ac30a57\n",
      "q = 0xc000df51a7c77ae8d7c7370c1ff55b69e211c2b9e5db1ed0bf61d0d9899620f4910e4168387e3c30aa1e00c339a795088452dd96a9a5ea5d9dca68da636032af\n",
      "p et q sont corrects !\n"
     ]
    }
   ],
   "source": [
    "# Variante de l'attaque de Bellcore n°1 : retrouver p et q à partir de la signature correcte et fautée (DFA)\n",
    "from math import gcd \n",
    "\n",
    "print(\"Signature corrompu :\", s_corrupted)\n",
    "print(\"Signature non corrompu :\", s_crt)\n",
    "\n",
    "\n",
    "\n",
    "r_corrupted = powmod(s_corrupted, e, N)\n",
    "r = powmod(s_crt, e, N)\n",
    "r_diff = r - r_corrupted\n",
    "q_found = gcd(r_diff, N)\n",
    "p_found = N // q_found\n",
    "\n",
    "\n",
    "print(\"p = {}\".format(hex(p_found)))\n",
    "print(\"q = {}\".format(hex(q_found)))\n",
    "\n",
    "# Vérifier que p et q sont corrects\n",
    "assert p_found * q_found == N, \"p et q ne sont pas corrects !\"\n",
    "print(\"p et q sont corrects !\")\n"
   ]
  },
  {
   "cell_type": "code",
   "execution_count": 81,
   "id": "6232131f",
   "metadata": {},
   "outputs": [
    {
     "name": "stdout",
     "output_type": "stream",
     "text": [
      "p = 0x9292758453063d803dd603d5e777d7888ed1d5bf35786190fa2f23ebc0848aeadda92ca6c3d80b32c4d109be0f36d6ae7130b9ced7acdf54cfc7555ac14eebab93a89813fbf3c4f8066d2d800f7c38a81ae31942917403ff4946b0a83d3d3e05ee57c6f5f5606fb5d4bc6cd34ee0801a5e94bb77b07507233a0bc7bac8f90f79\n",
      "q = 0x1\n",
      "p et q sont corrects !\n"
     ]
    }
   ],
   "source": [
    "# Variante de l'attaque de Bellcore n°2 : retrouver p et q à partir de seulement une signature fautée (SFA)\n",
    "\n",
    "q_corrupted = pow(s_corrupted, e, N)\n",
    "q_found_2 = gcd(q_corrupted - s_corrupted, N)\n",
    "p_found_2 = N // q_found_2\n",
    "\n",
    "print(\"p = {}\".format(hex(p_found_2)))\n",
    "print(\"q = {}\".format(hex(q_found_2)))\n",
    "\n",
    "# Vérifier que p et q sont corrects\n",
    "assert p_found_2 * q_found_2 == N, \"p et q ne sont pas corrects !\"\n",
    "print(\"p et q sont corrects !\")"
   ]
  },
  {
   "cell_type": "code",
   "execution_count": 84,
   "id": "59ddf9a5",
   "metadata": {},
   "outputs": [],
   "source": [
    "# Calcul de d\n",
    "phi = (p_found - 1) * (q_found - 1)\n",
    "d_found = invert(e, phi)\n",
    "\n"
   ]
  },
  {
   "cell_type": "code",
   "execution_count": 83,
   "id": "12c6097f",
   "metadata": {},
   "outputs": [],
   "source": [
    "# Maintenant que l'on a retrouvé tous les paramètres, on peut déchiffrer le message\n",
    "\n",
    "\n",
    "\n",
    "\n",
    "\n",
    "\n",
    "\n"
   ]
  },
  {
   "attachments": {},
   "cell_type": "markdown",
   "id": "ab15f974",
   "metadata": {},
   "source": [
    "# Questions additionnelles :\n"
   ]
  },
  {
   "attachments": {},
   "cell_type": "markdown",
   "id": "f416fe09",
   "metadata": {},
   "source": [
    "## 1/Si on faute sq, est-ce que l'attaque réussit ?\n",
    "## 2/Si on faute iq, est-ce que l'attaque réussit ?\n",
    "## 3/Ecrire le schéma de protection \"BOS Algorithm\", et tenter de reproduire les fautes qui contournent cette protection. Idem pour la variante \"BOS+\".\n",
    "## 4/Même question pour le schéma de Vigilant"
   ]
  }
 ],
 "metadata": {
  "kernelspec": {
   "display_name": "Python 3 (ipykernel)",
   "language": "python",
   "name": "python3"
  },
  "language_info": {
   "codemirror_mode": {
    "name": "ipython",
    "version": 3
   },
   "file_extension": ".py",
   "mimetype": "text/x-python",
   "name": "python",
   "nbconvert_exporter": "python",
   "pygments_lexer": "ipython3",
   "version": "3.11.2"
  }
 },
 "nbformat": 4,
 "nbformat_minor": 5
}
